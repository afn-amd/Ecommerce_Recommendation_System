{
 "cells": [
  {
   "cell_type": "code",
   "execution_count": null,
   "id": "fb59a49e-ec52-4b44-af89-9802bdd3d01f",
   "metadata": {},
   "outputs": [],
   "source": [
    "import numpy as np\n",
    "import pandas as pd\n",
    "import matplotlib.pyplot as plt\n",
    "import seaborn as sns\n",
    "from sklearn.metrics.pairwise import cosine_similarity\n",
    "from sklearn.feature_extraction.text import TfidfVectorizer\n",
    "import os\n",
    "from scipy.sparse import coo_matrix"
   ]
  },
  {
   "cell_type": "code",
   "execution_count": null,
   "id": "fbab26b1-5d8a-4e41-9bdf-fcd0389e59a9",
   "metadata": {},
   "outputs": [],
   "source": [
    "trainData = pd.read_csv('data/marketing_sample_for_walmart_com-walmart_com_product_review__20200701_20201231__5k_data.tsv', sep='\\t')\n",
    "trainData.shape"
   ]
  },
  {
   "cell_type": "code",
   "execution_count": null,
   "id": "e599debf-726e-4b2a-ad87-b33a9affe7e0",
   "metadata": {},
   "outputs": [],
   "source": [
    "trainData.columns"
   ]
  },
  {
   "cell_type": "code",
   "execution_count": null,
   "id": "69b491bb-8aa6-4614-b875-756a9ca382b9",
   "metadata": {},
   "outputs": [],
   "source": [
    "trainData = trainData[['Uniq Id', 'Product Id', 'Product Rating', 'Product Reviews Count', 'Product Category', 'Product Brand', 'Product Name', 'Product Image Url', 'Product Description', 'Product Tags']]\n",
    "trainData.head()"
   ]
  },
  {
   "cell_type": "code",
   "execution_count": null,
   "id": "36112305-ffc7-4050-be18-0c90c6fd36f2",
   "metadata": {},
   "outputs": [],
   "source": [
    "trainData.shape"
   ]
  },
  {
   "cell_type": "code",
   "execution_count": null,
   "id": "1daa08d8-2b79-4acd-9427-af8a63c1b3b8",
   "metadata": {},
   "outputs": [],
   "source": [
    "trainData.isnull().sum()"
   ]
  },
  {
   "cell_type": "code",
   "execution_count": null,
   "id": "1bcaf723-ccbf-438f-9051-9630ee9ee6ad",
   "metadata": {},
   "outputs": [],
   "source": [
    "trainData['Product Rating'] = trainData['Product Rating'].fillna(0)\n",
    "trainData['Product Reviews Count'] = trainData['Product Reviews Count'].fillna(0)\n",
    "trainData['Product Category'] = trainData['Product Category'].fillna('')\n",
    "trainData['Product Brand'] = trainData['Product Brand'].fillna('')\n",
    "trainData['Product Description'] = trainData['Product Description'].fillna('')"
   ]
  },
  {
   "cell_type": "code",
   "execution_count": null,
   "id": "0e2b6c03-7080-4e59-b454-288d64f03640",
   "metadata": {},
   "outputs": [],
   "source": [
    "trainData.isnull().sum()"
   ]
  },
  {
   "cell_type": "code",
   "execution_count": null,
   "id": "21560406-442c-40e6-abbf-4068f4785f83",
   "metadata": {},
   "outputs": [],
   "source": [
    "print(trainData.duplicated().sum())"
   ]
  },
  {
   "cell_type": "code",
   "execution_count": null,
   "id": "4cfccb35-0d5e-4d24-87f9-74d16b98ac2a",
   "metadata": {},
   "outputs": [],
   "source": [
    "trainData.columns"
   ]
  },
  {
   "cell_type": "code",
   "execution_count": null,
   "id": "fd0c5bd6-771d-410c-a989-19c28d1937bb",
   "metadata": {},
   "outputs": [],
   "source": [
    "columnNameMapping = {\n",
    "    'Uniq Id': 'ID',\n",
    "    'Product Id': 'prodID',\n",
    "    'Product Rating': 'Rating',\n",
    "    'Product Reviews Count': 'reviewCount',\n",
    "    'Product Category': 'Category',\n",
    "    'Product Brand': 'Brand',\n",
    "    'Product Name': 'Name',\n",
    "    'Product Image Url': 'imageURL', \n",
    "    'Product Description': 'Description', \n",
    "    'Product Tags': 'Tags'\n",
    "}\n",
    "\n",
    "trainData.rename(columns=columnNameMapping, inplace=True)"
   ]
  },
  {
   "cell_type": "code",
   "execution_count": null,
   "id": "8d07931d-751a-4161-9ab8-4dfc42c6e4d7",
   "metadata": {},
   "outputs": [],
   "source": [
    "trainData.columns"
   ]
  },
  {
   "cell_type": "code",
   "execution_count": null,
   "id": "8da25990-fd72-4f8b-b72e-81dc7d25ed3e",
   "metadata": {},
   "outputs": [],
   "source": [
    "trainData.head(3)"
   ]
  },
  {
   "cell_type": "code",
   "execution_count": null,
   "id": "25c8b5ea-0674-44ed-80c0-2a7d0b1599dc",
   "metadata": {},
   "outputs": [],
   "source": [
    "trainData['ID'] = trainData['ID'].str.extract(r'(\\d+)').astype(float)\n",
    "trainData['prodID'] = trainData['prodID'].str.extract(r'(\\d+)').astype(float)"
   ]
  },
  {
   "cell_type": "code",
   "execution_count": null,
   "id": "2fdd982d-f9c3-47f3-9109-6534c8c1ab2f",
   "metadata": {},
   "outputs": [],
   "source": [
    "numUsers = trainData['ID'].nunique()\n",
    "numItems = trainData['prodID'].nunique()\n",
    "numRatings = trainData['Rating'].nunique()\n",
    "print(f\"Number of unique users: {numUsers}\")\n",
    "print(f\"Number of unique items: {numItems}\")\n",
    "print(f\"Number of unique ratings: {numRatings}\")"
   ]
  },
  {
   "cell_type": "code",
   "execution_count": null,
   "id": "894d34e5-b100-4bd7-8e18-63290bcac812",
   "metadata": {},
   "outputs": [],
   "source": [
    "heatmapData = trainData.pivot_table('ID', 'Rating')\n",
    "\n",
    "plt.figure(figsize=(8, 6))\n",
    "sns.heatmap(heatmapData, annot=True, fmt='g', cmap='coolwarm', cbar=True)\n",
    "plt.title('Heatmap of user Ratings')\n",
    "plt.xlabel('Ratings')\n",
    "plt.ylabel('User ID')\n",
    "plt.show()"
   ]
  },
  {
   "cell_type": "code",
   "execution_count": null,
   "id": "83874daa-16d0-4402-a7fc-e57b97be90d6",
   "metadata": {},
   "outputs": [],
   "source": [
    "plt.figure(figsize=(12, 5))\n",
    "plt.subplot(1, 2, 1)\n",
    "trainData['ID'].value_counts().hist(bins=10, edgecolor='k')\n",
    "plt.xlabel('Interactions per User')\n",
    "plt.ylabel('Number of Users')\n",
    "plt.title('Distribution of Interactions per User')\n",
    "\n",
    "plt.subplot(1, 2, 2)\n",
    "trainData['prodID'].value_counts().hist(bins=10, edgecolor='k', color='green')\n",
    "plt.xlabel('Interactions per Item')\n",
    "plt.ylabel('Number of Items')\n",
    "plt.title('Distribution of Interactions per Item')\n",
    "\n",
    "plt.tight_layout()\n",
    "plt.show()"
   ]
  },
  {
   "cell_type": "code",
   "execution_count": null,
   "id": "5986cadd-b7f8-4f42-a875-091ad60843fe",
   "metadata": {},
   "outputs": [],
   "source": [
    "popularItems = trainData['prodID'].value_counts().head(5)\n",
    "popularItems.plot(kind='bar', color='red')\n",
    "plt.title(\"Most Popular Items\")"
   ]
  },
  {
   "cell_type": "code",
   "execution_count": null,
   "id": "56301082-10ca-495d-b3d7-3aee1d7fadcd",
   "metadata": {},
   "outputs": [],
   "source": [
    "trainData['Rating'].value_counts().plot(kind='bar', color='red')"
   ]
  },
  {
   "cell_type": "code",
   "execution_count": null,
   "id": "128ad58f-0d80-4ed0-84e0-0421de0222fa",
   "metadata": {},
   "outputs": [],
   "source": []
  }
 ],
 "metadata": {
  "kernelspec": {
   "display_name": "ecom",
   "language": "python",
   "name": "ecom"
  },
  "language_info": {
   "codemirror_mode": {
    "name": "ipython",
    "version": 3
   },
   "file_extension": ".py",
   "mimetype": "text/x-python",
   "name": "python",
   "nbconvert_exporter": "python",
   "pygments_lexer": "ipython3",
   "version": "3.12.6"
  }
 },
 "nbformat": 4,
 "nbformat_minor": 5
}
