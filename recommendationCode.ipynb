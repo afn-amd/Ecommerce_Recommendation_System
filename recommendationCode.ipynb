{
 "cells": [
  {
   "cell_type": "code",
   "execution_count": 1,
   "id": "fb59a49e-ec52-4b44-af89-9802bdd3d01f",
   "metadata": {},
   "outputs": [],
   "source": [
    "import numpy as np\n",
    "import pandas as pd\n",
    "import matplotlib.pyplot as plt\n",
    "import seaborn as sns\n",
    "from sklearn.metrics.pairwise import cosine_similarity\n",
    "from sklearn.feature_extraction.text import TfidfVectorizer\n",
    "import os\n",
    "from scipy.sparse import coo_matrix"
   ]
  },
  {
   "cell_type": "code",
   "execution_count": 2,
   "id": "fbab26b1-5d8a-4e41-9bdf-fcd0389e59a9",
   "metadata": {},
   "outputs": [
    {
     "data": {
      "text/plain": [
       "(5000, 32)"
      ]
     },
     "execution_count": 2,
     "metadata": {},
     "output_type": "execute_result"
    }
   ],
   "source": [
    "trainData = pd.read_csv('data/marketing_sample_for_walmart_com-walmart_com_product_review__20200701_20201231__5k_data.tsv', sep='\\t')\n",
    "trainData.shape"
   ]
  },
  {
   "cell_type": "code",
   "execution_count": 3,
   "id": "e599debf-726e-4b2a-ad87-b33a9affe7e0",
   "metadata": {},
   "outputs": [
    {
     "data": {
      "text/plain": [
       "Index(['Uniq Id', 'Crawl Timestamp', 'Dataset Origin', 'Product Id',\n",
       "       'Product Barcode', 'Product Company Type Source',\n",
       "       'Product Brand Source', 'Product Brand Normalised Source',\n",
       "       'Product Name Source', 'Match Rank', 'Match Score', 'Match Type',\n",
       "       'Retailer', 'Product Category', 'Product Brand', 'Product Name',\n",
       "       'Product Price', 'Sku', 'Upc', 'Product Url', 'Market',\n",
       "       'Product Description', 'Product Currency',\n",
       "       'Product Available Inventory', 'Product Image Url',\n",
       "       'Product Model Number', 'Product Tags', 'Product Contents',\n",
       "       'Product Rating', 'Product Reviews Count', 'Bsr', 'Joining Key'],\n",
       "      dtype='object')"
      ]
     },
     "execution_count": 3,
     "metadata": {},
     "output_type": "execute_result"
    }
   ],
   "source": [
    "trainData.columns"
   ]
  },
  {
   "cell_type": "code",
   "execution_count": 4,
   "id": "69b491bb-8aa6-4614-b875-756a9ca382b9",
   "metadata": {},
   "outputs": [
    {
     "data": {
      "text/html": [
       "<div>\n",
       "<style scoped>\n",
       "    .dataframe tbody tr th:only-of-type {\n",
       "        vertical-align: middle;\n",
       "    }\n",
       "\n",
       "    .dataframe tbody tr th {\n",
       "        vertical-align: top;\n",
       "    }\n",
       "\n",
       "    .dataframe thead th {\n",
       "        text-align: right;\n",
       "    }\n",
       "</style>\n",
       "<table border=\"1\" class=\"dataframe\">\n",
       "  <thead>\n",
       "    <tr style=\"text-align: right;\">\n",
       "      <th></th>\n",
       "      <th>Uniq Id</th>\n",
       "      <th>Product Id</th>\n",
       "      <th>Product Rating</th>\n",
       "      <th>Product Reviews Count</th>\n",
       "      <th>Product Category</th>\n",
       "      <th>Product Brand</th>\n",
       "      <th>Product Name</th>\n",
       "      <th>Product Image Url</th>\n",
       "      <th>Product Description</th>\n",
       "      <th>Product Tags</th>\n",
       "    </tr>\n",
       "  </thead>\n",
       "  <tbody>\n",
       "    <tr>\n",
       "      <th>0</th>\n",
       "      <td>1705736792d82aa2f2d3caf1c07c53f4</td>\n",
       "      <td>2e17bf4acecdece67fc00f07ad62c910</td>\n",
       "      <td>NaN</td>\n",
       "      <td>NaN</td>\n",
       "      <td>Premium Beauty &gt; Premium Makeup &gt; Premium Nail...</td>\n",
       "      <td>OPI</td>\n",
       "      <td>OPI Infinite Shine, Nail Lacquer Nail Polish, ...</td>\n",
       "      <td>https://i5.walmartimages.com/asr/0e1f4c51-c1a4...</td>\n",
       "      <td>NaN</td>\n",
       "      <td>OPI Infinite Shine, Nail Lacquer Nail Polish, ...</td>\n",
       "    </tr>\n",
       "    <tr>\n",
       "      <th>1</th>\n",
       "      <td>95a9fe6f4810fcfc7ff244fd06784f11</td>\n",
       "      <td>076e5854a62dd283c253d6bae415af1f</td>\n",
       "      <td>NaN</td>\n",
       "      <td>NaN</td>\n",
       "      <td>Beauty &gt; Hair Care &gt; Hair Color &gt; Auburn Hair ...</td>\n",
       "      <td>Nice'n Easy</td>\n",
       "      <td>Nice n Easy Permanent Color, 111 Natural Mediu...</td>\n",
       "      <td>https://i5.walmartimages.com/asr/9c8e42e4-13a5...</td>\n",
       "      <td>Pack of 3 Pack of 3 for the UPC: 381519000201 ...</td>\n",
       "      <td>Nice 'n Easy Permanent Color, 111 Natural Medi...</td>\n",
       "    </tr>\n",
       "    <tr>\n",
       "      <th>2</th>\n",
       "      <td>8d4d0330178d3ed181b15a4102b287f2</td>\n",
       "      <td>8a4fe5d9c7a6ed26cc44d785a454b124</td>\n",
       "      <td>4.5</td>\n",
       "      <td>29221.0</td>\n",
       "      <td>Beauty &gt; Hair Care &gt; Hair Color &gt; Permanent Ha...</td>\n",
       "      <td>Clairol</td>\n",
       "      <td>Clairol Nice N Easy Permanent Color 7/106A Nat...</td>\n",
       "      <td>https://i5.walmartimages.com/asr/e3a601c2-6a2b...</td>\n",
       "      <td>This Clairol Nice N Easy Permanent Color gives...</td>\n",
       "      <td>Clairol Nice 'N Easy Permanent Color 7/106A Na...</td>\n",
       "    </tr>\n",
       "    <tr>\n",
       "      <th>3</th>\n",
       "      <td>fddc4df45b35efd886794b261f730c51</td>\n",
       "      <td>03b5fb878a33eadff8b033419eab9669</td>\n",
       "      <td>NaN</td>\n",
       "      <td>NaN</td>\n",
       "      <td>Beauty &gt; Makeup &gt; Lip</td>\n",
       "      <td>Kokie Cosmetics</td>\n",
       "      <td>Kokie Professional Matte Lipstick, Hot Berry, ...</td>\n",
       "      <td>https://i5.walmartimages.com/asr/25b4b467-bc61...</td>\n",
       "      <td>Calling all matte lip lovers! Indulge in our r...</td>\n",
       "      <td>Kokie Professional Matte Lipstick, Hot Berry, ...</td>\n",
       "    </tr>\n",
       "    <tr>\n",
       "      <th>4</th>\n",
       "      <td>0990cf89a59ca6a0460349a3e4f51d42</td>\n",
       "      <td>ce3d761e57d6ccad80619297b5b1bcbc</td>\n",
       "      <td>NaN</td>\n",
       "      <td>131.0</td>\n",
       "      <td>Seasonal &gt; Stock Up Essentials &gt; Personal Care...</td>\n",
       "      <td>Gillette</td>\n",
       "      <td>Gillette TRAC II Plus Razor Blade Refills, Fit...</td>\n",
       "      <td>https://i5.walmartimages.com/asr/1a2ebb06-cd01...</td>\n",
       "      <td>In 1971, Gillette introduced the Trac II razor...</td>\n",
       "      <td>Gillette TRAC II Plus Razor Blade Refills, Fit...</td>\n",
       "    </tr>\n",
       "  </tbody>\n",
       "</table>\n",
       "</div>"
      ],
      "text/plain": [
       "                            Uniq Id                        Product Id  \\\n",
       "0  1705736792d82aa2f2d3caf1c07c53f4  2e17bf4acecdece67fc00f07ad62c910   \n",
       "1  95a9fe6f4810fcfc7ff244fd06784f11  076e5854a62dd283c253d6bae415af1f   \n",
       "2  8d4d0330178d3ed181b15a4102b287f2  8a4fe5d9c7a6ed26cc44d785a454b124   \n",
       "3  fddc4df45b35efd886794b261f730c51  03b5fb878a33eadff8b033419eab9669   \n",
       "4  0990cf89a59ca6a0460349a3e4f51d42  ce3d761e57d6ccad80619297b5b1bcbc   \n",
       "\n",
       "   Product Rating  Product Reviews Count  \\\n",
       "0             NaN                    NaN   \n",
       "1             NaN                    NaN   \n",
       "2             4.5                29221.0   \n",
       "3             NaN                    NaN   \n",
       "4             NaN                  131.0   \n",
       "\n",
       "                                    Product Category    Product Brand  \\\n",
       "0  Premium Beauty > Premium Makeup > Premium Nail...              OPI   \n",
       "1  Beauty > Hair Care > Hair Color > Auburn Hair ...      Nice'n Easy   \n",
       "2  Beauty > Hair Care > Hair Color > Permanent Ha...          Clairol   \n",
       "3                              Beauty > Makeup > Lip  Kokie Cosmetics   \n",
       "4  Seasonal > Stock Up Essentials > Personal Care...         Gillette   \n",
       "\n",
       "                                        Product Name  \\\n",
       "0  OPI Infinite Shine, Nail Lacquer Nail Polish, ...   \n",
       "1  Nice n Easy Permanent Color, 111 Natural Mediu...   \n",
       "2  Clairol Nice N Easy Permanent Color 7/106A Nat...   \n",
       "3  Kokie Professional Matte Lipstick, Hot Berry, ...   \n",
       "4  Gillette TRAC II Plus Razor Blade Refills, Fit...   \n",
       "\n",
       "                                   Product Image Url  \\\n",
       "0  https://i5.walmartimages.com/asr/0e1f4c51-c1a4...   \n",
       "1  https://i5.walmartimages.com/asr/9c8e42e4-13a5...   \n",
       "2  https://i5.walmartimages.com/asr/e3a601c2-6a2b...   \n",
       "3  https://i5.walmartimages.com/asr/25b4b467-bc61...   \n",
       "4  https://i5.walmartimages.com/asr/1a2ebb06-cd01...   \n",
       "\n",
       "                                 Product Description  \\\n",
       "0                                                NaN   \n",
       "1  Pack of 3 Pack of 3 for the UPC: 381519000201 ...   \n",
       "2  This Clairol Nice N Easy Permanent Color gives...   \n",
       "3  Calling all matte lip lovers! Indulge in our r...   \n",
       "4  In 1971, Gillette introduced the Trac II razor...   \n",
       "\n",
       "                                        Product Tags  \n",
       "0  OPI Infinite Shine, Nail Lacquer Nail Polish, ...  \n",
       "1  Nice 'n Easy Permanent Color, 111 Natural Medi...  \n",
       "2  Clairol Nice 'N Easy Permanent Color 7/106A Na...  \n",
       "3  Kokie Professional Matte Lipstick, Hot Berry, ...  \n",
       "4  Gillette TRAC II Plus Razor Blade Refills, Fit...  "
      ]
     },
     "execution_count": 4,
     "metadata": {},
     "output_type": "execute_result"
    }
   ],
   "source": [
    "trainData = trainData[['Uniq Id', 'Product Id', 'Product Rating', 'Product Reviews Count', 'Product Category', 'Product Brand', 'Product Name', 'Product Image Url', 'Product Description', 'Product Tags']]\n",
    "trainData.head()"
   ]
  },
  {
   "cell_type": "code",
   "execution_count": 5,
   "id": "36112305-ffc7-4050-be18-0c90c6fd36f2",
   "metadata": {},
   "outputs": [
    {
     "data": {
      "text/plain": [
       "(5000, 10)"
      ]
     },
     "execution_count": 5,
     "metadata": {},
     "output_type": "execute_result"
    }
   ],
   "source": [
    "trainData.shape"
   ]
  },
  {
   "cell_type": "code",
   "execution_count": 6,
   "id": "1daa08d8-2b79-4acd-9427-af8a63c1b3b8",
   "metadata": {},
   "outputs": [
    {
     "data": {
      "text/plain": [
       "Uniq Id                     0\n",
       "Product Id                  0\n",
       "Product Rating           2806\n",
       "Product Reviews Count    1654\n",
       "Product Category           10\n",
       "Product Brand              13\n",
       "Product Name                0\n",
       "Product Image Url           0\n",
       "Product Description      1127\n",
       "Product Tags                0\n",
       "dtype: int64"
      ]
     },
     "execution_count": 6,
     "metadata": {},
     "output_type": "execute_result"
    }
   ],
   "source": [
    "trainData.isnull().sum()"
   ]
  },
  {
   "cell_type": "code",
   "execution_count": 7,
   "id": "1bcaf723-ccbf-438f-9051-9630ee9ee6ad",
   "metadata": {},
   "outputs": [],
   "source": [
    "trainData['Product Rating'] = trainData['Product Rating'].fillna(0)\n",
    "trainData['Product Reviews Count'] = trainData['Product Reviews Count'].fillna(0)\n",
    "trainData['Product Category'] = trainData['Product Category'].fillna('')\n",
    "trainData['Product Brand'] = trainData['Product Brand'].fillna('')\n",
    "trainData['Product Description'] = trainData['Product Description'].fillna('')"
   ]
  },
  {
   "cell_type": "code",
   "execution_count": 8,
   "id": "0e2b6c03-7080-4e59-b454-288d64f03640",
   "metadata": {},
   "outputs": [
    {
     "data": {
      "text/plain": [
       "Uniq Id                  0\n",
       "Product Id               0\n",
       "Product Rating           0\n",
       "Product Reviews Count    0\n",
       "Product Category         0\n",
       "Product Brand            0\n",
       "Product Name             0\n",
       "Product Image Url        0\n",
       "Product Description      0\n",
       "Product Tags             0\n",
       "dtype: int64"
      ]
     },
     "execution_count": 8,
     "metadata": {},
     "output_type": "execute_result"
    }
   ],
   "source": [
    "trainData.isnull().sum()"
   ]
  },
  {
   "cell_type": "code",
   "execution_count": 9,
   "id": "21560406-442c-40e6-abbf-4068f4785f83",
   "metadata": {},
   "outputs": [
    {
     "name": "stdout",
     "output_type": "stream",
     "text": [
      "0\n"
     ]
    }
   ],
   "source": [
    "print(trainData.duplicated().sum())"
   ]
  },
  {
   "cell_type": "code",
   "execution_count": 10,
   "id": "4cfccb35-0d5e-4d24-87f9-74d16b98ac2a",
   "metadata": {},
   "outputs": [
    {
     "data": {
      "text/plain": [
       "Index(['Uniq Id', 'Product Id', 'Product Rating', 'Product Reviews Count',\n",
       "       'Product Category', 'Product Brand', 'Product Name',\n",
       "       'Product Image Url', 'Product Description', 'Product Tags'],\n",
       "      dtype='object')"
      ]
     },
     "execution_count": 10,
     "metadata": {},
     "output_type": "execute_result"
    }
   ],
   "source": [
    "trainData.columns"
   ]
  },
  {
   "cell_type": "code",
   "execution_count": 11,
   "id": "fd0c5bd6-771d-410c-a989-19c28d1937bb",
   "metadata": {},
   "outputs": [],
   "source": [
    "columnNameMapping = {\n",
    "    'Uniq Id': 'ID',\n",
    "    'Product Id': 'prodID',\n",
    "    'Product Rating': 'Rating',\n",
    "    'Product Reviews Count': 'reviewCount',\n",
    "    'Product Category': 'Category',\n",
    "    'Product Brand': 'Brand',\n",
    "    'Product Name': 'Name',\n",
    "    'Product Image Url': 'imageURL', \n",
    "    'Product Description': 'Description', \n",
    "    'Product Tags': 'Tags'\n",
    "}\n",
    "\n",
    "trainData.rename(columns=columnNameMapping, inplace=True)"
   ]
  },
  {
   "cell_type": "code",
   "execution_count": 12,
   "id": "8d07931d-751a-4161-9ab8-4dfc42c6e4d7",
   "metadata": {},
   "outputs": [
    {
     "data": {
      "text/plain": [
       "Index(['ID', 'prodID', 'Rating', 'reviewCount', 'Category', 'Brand', 'Name',\n",
       "       'imageURL', 'Description', 'Tags'],\n",
       "      dtype='object')"
      ]
     },
     "execution_count": 12,
     "metadata": {},
     "output_type": "execute_result"
    }
   ],
   "source": [
    "trainData.columns"
   ]
  },
  {
   "cell_type": "code",
   "execution_count": 13,
   "id": "8da25990-fd72-4f8b-b72e-81dc7d25ed3e",
   "metadata": {},
   "outputs": [
    {
     "data": {
      "text/html": [
       "<div>\n",
       "<style scoped>\n",
       "    .dataframe tbody tr th:only-of-type {\n",
       "        vertical-align: middle;\n",
       "    }\n",
       "\n",
       "    .dataframe tbody tr th {\n",
       "        vertical-align: top;\n",
       "    }\n",
       "\n",
       "    .dataframe thead th {\n",
       "        text-align: right;\n",
       "    }\n",
       "</style>\n",
       "<table border=\"1\" class=\"dataframe\">\n",
       "  <thead>\n",
       "    <tr style=\"text-align: right;\">\n",
       "      <th></th>\n",
       "      <th>ID</th>\n",
       "      <th>prodID</th>\n",
       "      <th>Rating</th>\n",
       "      <th>reviewCount</th>\n",
       "      <th>Category</th>\n",
       "      <th>Brand</th>\n",
       "      <th>Name</th>\n",
       "      <th>imageURL</th>\n",
       "      <th>Description</th>\n",
       "      <th>Tags</th>\n",
       "    </tr>\n",
       "  </thead>\n",
       "  <tbody>\n",
       "    <tr>\n",
       "      <th>0</th>\n",
       "      <td>1705736792d82aa2f2d3caf1c07c53f4</td>\n",
       "      <td>2e17bf4acecdece67fc00f07ad62c910</td>\n",
       "      <td>0.0</td>\n",
       "      <td>0.0</td>\n",
       "      <td>Premium Beauty &gt; Premium Makeup &gt; Premium Nail...</td>\n",
       "      <td>OPI</td>\n",
       "      <td>OPI Infinite Shine, Nail Lacquer Nail Polish, ...</td>\n",
       "      <td>https://i5.walmartimages.com/asr/0e1f4c51-c1a4...</td>\n",
       "      <td></td>\n",
       "      <td>OPI Infinite Shine, Nail Lacquer Nail Polish, ...</td>\n",
       "    </tr>\n",
       "    <tr>\n",
       "      <th>1</th>\n",
       "      <td>95a9fe6f4810fcfc7ff244fd06784f11</td>\n",
       "      <td>076e5854a62dd283c253d6bae415af1f</td>\n",
       "      <td>0.0</td>\n",
       "      <td>0.0</td>\n",
       "      <td>Beauty &gt; Hair Care &gt; Hair Color &gt; Auburn Hair ...</td>\n",
       "      <td>Nice'n Easy</td>\n",
       "      <td>Nice n Easy Permanent Color, 111 Natural Mediu...</td>\n",
       "      <td>https://i5.walmartimages.com/asr/9c8e42e4-13a5...</td>\n",
       "      <td>Pack of 3 Pack of 3 for the UPC: 381519000201 ...</td>\n",
       "      <td>Nice 'n Easy Permanent Color, 111 Natural Medi...</td>\n",
       "    </tr>\n",
       "    <tr>\n",
       "      <th>2</th>\n",
       "      <td>8d4d0330178d3ed181b15a4102b287f2</td>\n",
       "      <td>8a4fe5d9c7a6ed26cc44d785a454b124</td>\n",
       "      <td>4.5</td>\n",
       "      <td>29221.0</td>\n",
       "      <td>Beauty &gt; Hair Care &gt; Hair Color &gt; Permanent Ha...</td>\n",
       "      <td>Clairol</td>\n",
       "      <td>Clairol Nice N Easy Permanent Color 7/106A Nat...</td>\n",
       "      <td>https://i5.walmartimages.com/asr/e3a601c2-6a2b...</td>\n",
       "      <td>This Clairol Nice N Easy Permanent Color gives...</td>\n",
       "      <td>Clairol Nice 'N Easy Permanent Color 7/106A Na...</td>\n",
       "    </tr>\n",
       "  </tbody>\n",
       "</table>\n",
       "</div>"
      ],
      "text/plain": [
       "                                 ID                            prodID  Rating  \\\n",
       "0  1705736792d82aa2f2d3caf1c07c53f4  2e17bf4acecdece67fc00f07ad62c910     0.0   \n",
       "1  95a9fe6f4810fcfc7ff244fd06784f11  076e5854a62dd283c253d6bae415af1f     0.0   \n",
       "2  8d4d0330178d3ed181b15a4102b287f2  8a4fe5d9c7a6ed26cc44d785a454b124     4.5   \n",
       "\n",
       "   reviewCount                                           Category  \\\n",
       "0          0.0  Premium Beauty > Premium Makeup > Premium Nail...   \n",
       "1          0.0  Beauty > Hair Care > Hair Color > Auburn Hair ...   \n",
       "2      29221.0  Beauty > Hair Care > Hair Color > Permanent Ha...   \n",
       "\n",
       "         Brand                                               Name  \\\n",
       "0          OPI  OPI Infinite Shine, Nail Lacquer Nail Polish, ...   \n",
       "1  Nice'n Easy  Nice n Easy Permanent Color, 111 Natural Mediu...   \n",
       "2      Clairol  Clairol Nice N Easy Permanent Color 7/106A Nat...   \n",
       "\n",
       "                                            imageURL  \\\n",
       "0  https://i5.walmartimages.com/asr/0e1f4c51-c1a4...   \n",
       "1  https://i5.walmartimages.com/asr/9c8e42e4-13a5...   \n",
       "2  https://i5.walmartimages.com/asr/e3a601c2-6a2b...   \n",
       "\n",
       "                                         Description  \\\n",
       "0                                                      \n",
       "1  Pack of 3 Pack of 3 for the UPC: 381519000201 ...   \n",
       "2  This Clairol Nice N Easy Permanent Color gives...   \n",
       "\n",
       "                                                Tags  \n",
       "0  OPI Infinite Shine, Nail Lacquer Nail Polish, ...  \n",
       "1  Nice 'n Easy Permanent Color, 111 Natural Medi...  \n",
       "2  Clairol Nice 'N Easy Permanent Color 7/106A Na...  "
      ]
     },
     "execution_count": 13,
     "metadata": {},
     "output_type": "execute_result"
    }
   ],
   "source": [
    "trainData.head(3)"
   ]
  },
  {
   "cell_type": "code",
   "execution_count": 14,
   "id": "25c8b5ea-0674-44ed-80c0-2a7d0b1599dc",
   "metadata": {},
   "outputs": [],
   "source": [
    "trainData['ID'] = trainData['ID'].str.extract(r'(\\d+)').astype(float)\n",
    "trainData['prodID'] = trainData['prodID'].str.extract(r'(\\d+)').astype(float)"
   ]
  },
  {
   "cell_type": "code",
   "execution_count": 15,
   "id": "2fdd982d-f9c3-47f3-9109-6534c8c1ab2f",
   "metadata": {},
   "outputs": [
    {
     "name": "stdout",
     "output_type": "stream",
     "text": [
      "Number of unique users: 1721\n",
      "Number of unique items: 1697\n",
      "Number of unique ratings: 36\n"
     ]
    }
   ],
   "source": [
    "numUsers = trainData['ID'].nunique()\n",
    "numItems = trainData['prodID'].nunique()\n",
    "numRatings = trainData['Rating'].nunique()\n",
    "print(f\"Number of unique users: {numUsers}\")\n",
    "print(f\"Number of unique items: {numItems}\")\n",
    "print(f\"Number of unique ratings: {numRatings}\")"
   ]
  },
  {
   "cell_type": "code",
   "execution_count": 16,
   "id": "894d34e5-b100-4bd7-8e18-63290bcac812",
   "metadata": {},
   "outputs": [
    {
     "data": {
      "image/png": "[encoded data removed]",
      "text/plain": [
       "<Figure size 800x600 with 2 Axes>"
      ]
     },
     "metadata": {},
     "output_type": "display_data"
    }
   ],
   "source": [
    "heatmapData = trainData.pivot_table('ID', 'Rating')\n",
    "\n",
    "plt.figure(figsize=(8, 6))\n",
    "sns.heatmap(heatmapData, annot=True, fmt='g', cmap='coolwarm', cbar=True)\n",
    "plt.title('Heatmap of user Ratings')\n",
    "plt.xlabel('Ratings')\n",
    "plt.ylabel('User ID')\n",
    "plt.show()"
   ]
  },
  {
   "cell_type": "code",
   "execution_count": 17,
   "id": "83874daa-16d0-4402-a7fc-e57b97be90d6",
   "metadata": {},
   "outputs": [
    {
     "data": {
      "image/png": "[encoded data removed]",
      "text/plain": [
       "<Figure size 1200x500 with 2 Axes>"
      ]
     },
     "metadata": {},
     "output_type": "display_data"
    }
   ],
   "source": [
    "plt.figure(figsize=(12, 5))\n",
    "plt.subplot(1, 2, 1)\n",
    "trainData['ID'].value_counts().hist(bins=10, edgecolor='k')\n",
    "plt.xlabel('Interactions per User')\n",
    "plt.ylabel('Number of Users')\n",
    "plt.title('Distribution of Interactions per User')\n",
    "\n",
    "plt.subplot(1, 2, 2)\n",
    "trainData['prodID'].value_counts().hist(bins=10, edgecolor='k', color='green')\n",
    "plt.xlabel('Interactions per Item')\n",
    "plt.ylabel('Number of Items')\n",
    "plt.title('Distribution of Interactions per Item')\n",
    "\n",
    "plt.tight_layout()\n",
    "plt.show()"
   ]
  },
  {
   "cell_type": "code",
   "execution_count": 18,
   "id": "5986cadd-b7f8-4f42-a875-091ad60843fe",
   "metadata": {},
   "outputs": [
    {
     "data": {
      "text/plain": [
       "Text(0.5, 1.0, 'Most Popular Items')"
      ]
     },
     "execution_count": 18,
     "metadata": {},
     "output_type": "execute_result"
    },
    {
     "data": {
      "image/png": "[encoded data removed]",
      "text/plain": [
       "<Figure size 640x480 with 1 Axes>"
      ]
     },
     "metadata": {},
     "output_type": "display_data"
    }
   ],
   "source": [
    "popularItems = trainData['prodID'].value_counts().head(5)\n",
    "popularItems.plot(kind='bar', color='red')\n",
    "plt.title(\"Most Popular Items\")"
   ]
  },
  {
   "cell_type": "code",
   "execution_count": 19,
   "id": "56301082-10ca-495d-b3d7-3aee1d7fadcd",
   "metadata": {},
   "outputs": [
    {
     "data": {
      "text/plain": [
       "<Axes: xlabel='Rating'>"
      ]
     },
     "execution_count": 19,
     "metadata": {},
     "output_type": "execute_result"
    },
    {
     "data": {
      "image/png": "[encoded data removed]",
      "text/plain": [
       "<Figure size 640x480 with 1 Axes>"
      ]
     },
     "metadata": {},
     "output_type": "display_data"
    }
   ],
   "source": [
    "trainData['Rating'].value_counts().plot(kind='bar', color='red')"
   ]
  },
  {
   "cell_type": "code",
   "execution_count": 20,
   "id": "128ad58f-0d80-4ed0-84e0-0421de0222fa",
   "metadata": {},
   "outputs": [
    {
     "data": {
      "text/plain": [
       "0       OPI Infinite Shine, Nail Lacquer Nail Polish, ...\n",
       "1       Nice 'n Easy Permanent Color, 111 Natural Medi...\n",
       "2       Clairol Nice 'N Easy Permanent Color 7/106A Na...\n",
       "3       Kokie Professional Matte Lipstick, Hot Berry, ...\n",
       "4       Gillette TRAC II Plus Razor Blade Refills, Fit...\n",
       "                              ...                        \n",
       "4995    Garden Mint Room Spray (Double Strength), 4 ou...\n",
       "4996    Garnier Nutrisse Nourishing Hair Color Creme (...\n",
       "4997    Nail File Electric Drill, 6 in 1 Professional ...\n",
       "4998    Creed Love In Black Hair And Body Wash 6.8oz/2...\n",
       "4999                    Foundation, Wal-mart, Walmart.com\n",
       "Name: Tags, Length: 5000, dtype: object"
      ]
     },
     "execution_count": 20,
     "metadata": {},
     "output_type": "execute_result"
    }
   ],
   "source": [
    "trainData['Tags']"
   ]
  },
  {
   "cell_type": "code",
   "execution_count": 21,
   "id": "db4574a6-6b26-443f-93d5-8605f7143a59",
   "metadata": {},
   "outputs": [],
   "source": [
    "import spacy\n",
    "from spacy.lang.en.stop_words import STOP_WORDS\n",
    "\n",
    "nlp = spacy.load(\"en_core_web_sm\")\n",
    "\n",
    "def clean_and_extract_tags(text):\n",
    "    doc = nlp(text.lower())\n",
    "    tags = [token.text for token in doc if token.text.isalnum() and token.text not in STOP_WORDS]\n",
    "    return ', '.join(tags)\n",
    "\n",
    "columns_to_extract_tags_from = ['Category', 'Brand', 'Description']\n",
    "\n",
    "for column in columns_to_extract_tags_from:\n",
    "    trainData[column] = trainData[column].apply(clean_and_extract_tags)"
   ]
  },
  {
   "cell_type": "code",
   "execution_count": 22,
   "id": "88351386-b21d-4d89-a2ef-715810405121",
   "metadata": {},
   "outputs": [],
   "source": [
    "trainData['Tags'] = trainData[columns_to_extract_tags_from].apply(lambda row: ', '.join(row), axis=1)"
   ]
  },
  {
   "cell_type": "code",
   "execution_count": 23,
   "id": "20715199-91ca-4f03-a7e5-e6c81a397490",
   "metadata": {},
   "outputs": [
    {
     "data": {
      "text/plain": [
       "0       premium, beauty, premium, makeup, premium, nai...\n",
       "1       beauty, hair, care, hair, color, auburn, hair,...\n",
       "2       beauty, hair, care, hair, color, permanent, ha...\n",
       "3       beauty, makeup, lip, kokie, cosmetics, calling...\n",
       "4       seasonal, stock, essentials, personal, care, s...\n",
       "                              ...                        \n",
       "4995    household, essentials, air, fresheners, spray,...\n",
       "4996    beauty, hair, care, hair, color, permanent, ha...\n",
       "4997    beauty, makeup, nails, stoneway, multifunction...\n",
       "4998    premium, beauty, premium, bath, body, premium,...\n",
       "4999    beauty, makeup, face, makeup, face, makeup, br...\n",
       "Name: Tags, Length: 5000, dtype: object"
      ]
     },
     "execution_count": 23,
     "metadata": {},
     "output_type": "execute_result"
    }
   ],
   "source": [
    "trainData['Tags']"
   ]
  },
  {
   "cell_type": "markdown",
   "id": "94859a84-7aaa-4b6c-97e8-edebaa75a76d",
   "metadata": {},
   "source": [
    "### Rating Based Recommendations System"
   ]
  },
  {
   "cell_type": "code",
   "execution_count": 24,
   "id": "3687a6ce-b876-4cdf-bcbb-cae3e405e175",
   "metadata": {},
   "outputs": [
    {
     "data": {
      "text/html": [
       "<div>\n",
       "<style scoped>\n",
       "    .dataframe tbody tr th:only-of-type {\n",
       "        vertical-align: middle;\n",
       "    }\n",
       "\n",
       "    .dataframe tbody tr th {\n",
       "        vertical-align: top;\n",
       "    }\n",
       "\n",
       "    .dataframe thead th {\n",
       "        text-align: right;\n",
       "    }\n",
       "</style>\n",
       "<table border=\"1\" class=\"dataframe\">\n",
       "  <thead>\n",
       "    <tr style=\"text-align: right;\">\n",
       "      <th></th>\n",
       "      <th>ID</th>\n",
       "      <th>prodID</th>\n",
       "      <th>Rating</th>\n",
       "      <th>reviewCount</th>\n",
       "      <th>Category</th>\n",
       "      <th>Brand</th>\n",
       "      <th>Name</th>\n",
       "      <th>imageURL</th>\n",
       "      <th>Description</th>\n",
       "      <th>Tags</th>\n",
       "    </tr>\n",
       "  </thead>\n",
       "  <tbody>\n",
       "    <tr>\n",
       "      <th>0</th>\n",
       "      <td>1.705737e+09</td>\n",
       "      <td>2.0</td>\n",
       "      <td>0.0</td>\n",
       "      <td>0.0</td>\n",
       "      <td>premium, beauty, premium, makeup, premium, nai...</td>\n",
       "      <td>opi</td>\n",
       "      <td>OPI Infinite Shine, Nail Lacquer Nail Polish, ...</td>\n",
       "      <td>https://i5.walmartimages.com/asr/0e1f4c51-c1a4...</td>\n",
       "      <td></td>\n",
       "      <td>premium, beauty, premium, makeup, premium, nai...</td>\n",
       "    </tr>\n",
       "    <tr>\n",
       "      <th>1</th>\n",
       "      <td>9.500000e+01</td>\n",
       "      <td>76.0</td>\n",
       "      <td>0.0</td>\n",
       "      <td>0.0</td>\n",
       "      <td>beauty, hair, care, hair, color, auburn, hair,...</td>\n",
       "      <td>easy</td>\n",
       "      <td>Nice n Easy Permanent Color, 111 Natural Mediu...</td>\n",
       "      <td>https://i5.walmartimages.com/asr/9c8e42e4-13a5...</td>\n",
       "      <td>pack, 3, pack, 3, upc, 381519000201, beautiful...</td>\n",
       "      <td>beauty, hair, care, hair, color, auburn, hair,...</td>\n",
       "    </tr>\n",
       "  </tbody>\n",
       "</table>\n",
       "</div>"
      ],
      "text/plain": [
       "             ID  prodID  Rating  reviewCount  \\\n",
       "0  1.705737e+09     2.0     0.0          0.0   \n",
       "1  9.500000e+01    76.0     0.0          0.0   \n",
       "\n",
       "                                            Category Brand  \\\n",
       "0  premium, beauty, premium, makeup, premium, nai...   opi   \n",
       "1  beauty, hair, care, hair, color, auburn, hair,...  easy   \n",
       "\n",
       "                                                Name  \\\n",
       "0  OPI Infinite Shine, Nail Lacquer Nail Polish, ...   \n",
       "1  Nice n Easy Permanent Color, 111 Natural Mediu...   \n",
       "\n",
       "                                            imageURL  \\\n",
       "0  https://i5.walmartimages.com/asr/0e1f4c51-c1a4...   \n",
       "1  https://i5.walmartimages.com/asr/9c8e42e4-13a5...   \n",
       "\n",
       "                                         Description  \\\n",
       "0                                                      \n",
       "1  pack, 3, pack, 3, upc, 381519000201, beautiful...   \n",
       "\n",
       "                                                Tags  \n",
       "0  premium, beauty, premium, makeup, premium, nai...  \n",
       "1  beauty, hair, care, hair, color, auburn, hair,...  "
      ]
     },
     "execution_count": 24,
     "metadata": {},
     "output_type": "execute_result"
    }
   ],
   "source": [
    "trainData.head(2)"
   ]
  },
  {
   "cell_type": "code",
   "execution_count": 25,
   "id": "93975b55-871e-4e9c-b6fb-dd5ad4808bc9",
   "metadata": {},
   "outputs": [],
   "source": [
    "avgRatings = trainData.groupby(['Name', 'reviewCount', 'Brand', 'imageURL'])['Rating'].mean().reset_index()"
   ]
  },
  {
   "cell_type": "code",
   "execution_count": 26,
   "id": "ec388780-dd99-4163-95f2-1e174585bd5d",
   "metadata": {},
   "outputs": [],
   "source": [
    "topRatedItems = avgRatings.sort_values(by='Rating', ascending=False)\n",
    "ratingBasedRecommendation = topRatedItems.head(10)"
   ]
  },
  {
   "cell_type": "code",
   "execution_count": 27,
   "id": "01419533-8f0c-445d-992f-26853385444c",
   "metadata": {},
   "outputs": [],
   "source": [
    "ratingBasedRecommendation.loc[:, 'Rating'] = ratingBasedRecommendation['Rating'].astype(int)\n",
    "ratingBasedRecommendation.loc[:, 'reviewCount'] = ratingBasedRecommendation['reviewCount'].astype(int)"
   ]
  },
  {
   "cell_type": "code",
   "execution_count": 28,
   "id": "cc442f7c-dc47-4870-b0c4-b37ac738528e",
   "metadata": {},
   "outputs": [
    {
     "data": {
      "text/html": [
       "<div>\n",
       "<style scoped>\n",
       "    .dataframe tbody tr th:only-of-type {\n",
       "        vertical-align: middle;\n",
       "    }\n",
       "\n",
       "    .dataframe tbody tr th {\n",
       "        vertical-align: top;\n",
       "    }\n",
       "\n",
       "    .dataframe thead th {\n",
       "        text-align: right;\n",
       "    }\n",
       "</style>\n",
       "<table border=\"1\" class=\"dataframe\">\n",
       "  <thead>\n",
       "    <tr style=\"text-align: right;\">\n",
       "      <th></th>\n",
       "      <th>Name</th>\n",
       "      <th>reviewCount</th>\n",
       "      <th>Brand</th>\n",
       "      <th>imageURL</th>\n",
       "      <th>Rating</th>\n",
       "    </tr>\n",
       "  </thead>\n",
       "  <tbody>\n",
       "    <tr>\n",
       "      <th>1</th>\n",
       "      <td>($100 Value) Peter Thomas Roth Thermal Therapy...</td>\n",
       "      <td>1.0</td>\n",
       "      <td>peter, thomas, roth</td>\n",
       "      <td>https://i5.walmartimages.com/asr/ecd851ef-6ca7...</td>\n",
       "      <td>5.0</td>\n",
       "    </tr>\n",
       "    <tr>\n",
       "      <th>4959</th>\n",
       "      <td>got2b Kinkier Curling Mousse 8 oz (Pack of 2)</td>\n",
       "      <td>1.0</td>\n",
       "      <td>göt2b</td>\n",
       "      <td>https://i5.walmartimages.com/asr/9e656b95-79f6...</td>\n",
       "      <td>5.0</td>\n",
       "    </tr>\n",
       "    <tr>\n",
       "      <th>6</th>\n",
       "      <td>($14 Value) Burts Bees Beeswax Bounty Classic ...</td>\n",
       "      <td>10.0</td>\n",
       "      <td>burt, bees</td>\n",
       "      <td>https://i5.walmartimages.com/asr/bfbb58dc-8199...</td>\n",
       "      <td>5.0</td>\n",
       "    </tr>\n",
       "    <tr>\n",
       "      <th>1208</th>\n",
       "      <td>Clairol Professional Beautiful Collection Semi...</td>\n",
       "      <td>1.0</td>\n",
       "      <td>clairol</td>\n",
       "      <td>https://i5.walmartimages.com/asr/31562542-b683...</td>\n",
       "      <td>5.0</td>\n",
       "    </tr>\n",
       "    <tr>\n",
       "      <th>1216</th>\n",
       "      <td>Clairol Textures &amp; Tones 4RC Cherrywood, 1 ea ...</td>\n",
       "      <td>1.0</td>\n",
       "      <td>clairol</td>\n",
       "      <td>https://i5.walmartimages.com/asr/78f33717-0104...</td>\n",
       "      <td>5.0</td>\n",
       "    </tr>\n",
       "  </tbody>\n",
       "</table>\n",
       "</div>"
      ],
      "text/plain": [
       "                                                   Name  reviewCount  \\\n",
       "1     ($100 Value) Peter Thomas Roth Thermal Therapy...          1.0   \n",
       "4959      got2b Kinkier Curling Mousse 8 oz (Pack of 2)          1.0   \n",
       "6     ($14 Value) Burts Bees Beeswax Bounty Classic ...         10.0   \n",
       "1208  Clairol Professional Beautiful Collection Semi...          1.0   \n",
       "1216  Clairol Textures & Tones 4RC Cherrywood, 1 ea ...          1.0   \n",
       "\n",
       "                    Brand                                           imageURL  \\\n",
       "1     peter, thomas, roth  https://i5.walmartimages.com/asr/ecd851ef-6ca7...   \n",
       "4959                göt2b  https://i5.walmartimages.com/asr/9e656b95-79f6...   \n",
       "6              burt, bees  https://i5.walmartimages.com/asr/bfbb58dc-8199...   \n",
       "1208              clairol  https://i5.walmartimages.com/asr/31562542-b683...   \n",
       "1216              clairol  https://i5.walmartimages.com/asr/78f33717-0104...   \n",
       "\n",
       "      Rating  \n",
       "1        5.0  \n",
       "4959     5.0  \n",
       "6        5.0  \n",
       "1208     5.0  \n",
       "1216     5.0  "
      ]
     },
     "execution_count": 28,
     "metadata": {},
     "output_type": "execute_result"
    }
   ],
   "source": [
    "ratingBasedRecommendation.head()"
   ]
  },
  {
   "cell_type": "code",
   "execution_count": 29,
   "id": "b0966b09-c795-457a-aa1a-c28a13b7447f",
   "metadata": {},
   "outputs": [
    {
     "name": "stdout",
     "output_type": "stream",
     "text": [
      "Rating Based Recommedation System: (Trending Products)\n"
     ]
    },
    {
     "data": {
      "text/html": [
       "<div>\n",
       "<style scoped>\n",
       "    .dataframe tbody tr th:only-of-type {\n",
       "        vertical-align: middle;\n",
       "    }\n",
       "\n",
       "    .dataframe tbody tr th {\n",
       "        vertical-align: top;\n",
       "    }\n",
       "\n",
       "    .dataframe thead th {\n",
       "        text-align: right;\n",
       "    }\n",
       "</style>\n",
       "<table border=\"1\" class=\"dataframe\">\n",
       "  <thead>\n",
       "    <tr style=\"text-align: right;\">\n",
       "      <th></th>\n",
       "      <th>Name</th>\n",
       "      <th>reviewCount</th>\n",
       "      <th>Brand</th>\n",
       "      <th>imageURL</th>\n",
       "      <th>Rating</th>\n",
       "    </tr>\n",
       "  </thead>\n",
       "  <tbody>\n",
       "    <tr>\n",
       "      <th>1</th>\n",
       "      <td>($100 Value) Peter Thomas Roth Thermal Therapy...</td>\n",
       "      <td>1.0</td>\n",
       "      <td>peter, thomas, roth</td>\n",
       "      <td>https://i5.walmartimages.com/asr/ecd851ef-6ca7...</td>\n",
       "      <td>5.0</td>\n",
       "    </tr>\n",
       "    <tr>\n",
       "      <th>4959</th>\n",
       "      <td>got2b Kinkier Curling Mousse 8 oz (Pack of 2)</td>\n",
       "      <td>1.0</td>\n",
       "      <td>göt2b</td>\n",
       "      <td>https://i5.walmartimages.com/asr/9e656b95-79f6...</td>\n",
       "      <td>5.0</td>\n",
       "    </tr>\n",
       "    <tr>\n",
       "      <th>6</th>\n",
       "      <td>($14 Value) Burts Bees Beeswax Bounty Classic ...</td>\n",
       "      <td>10.0</td>\n",
       "      <td>burt, bees</td>\n",
       "      <td>https://i5.walmartimages.com/asr/bfbb58dc-8199...</td>\n",
       "      <td>5.0</td>\n",
       "    </tr>\n",
       "    <tr>\n",
       "      <th>1208</th>\n",
       "      <td>Clairol Professional Beautiful Collection Semi...</td>\n",
       "      <td>1.0</td>\n",
       "      <td>clairol</td>\n",
       "      <td>https://i5.walmartimages.com/asr/31562542-b683...</td>\n",
       "      <td>5.0</td>\n",
       "    </tr>\n",
       "    <tr>\n",
       "      <th>1216</th>\n",
       "      <td>Clairol Textures &amp; Tones 4RC Cherrywood, 1 ea ...</td>\n",
       "      <td>1.0</td>\n",
       "      <td>clairol</td>\n",
       "      <td>https://i5.walmartimages.com/asr/78f33717-0104...</td>\n",
       "      <td>5.0</td>\n",
       "    </tr>\n",
       "    <tr>\n",
       "      <th>1228</th>\n",
       "      <td>Clay-Park Labs Ammonium Lactate Lotion 12% 14 ...</td>\n",
       "      <td>13.0</td>\n",
       "      <td>clay, park, labs</td>\n",
       "      <td>https://i5.walmartimages.com/asr/b3d5462d-d067...</td>\n",
       "      <td>5.0</td>\n",
       "    </tr>\n",
       "    <tr>\n",
       "      <th>4857</th>\n",
       "      <td>Yosoo Reusable Sanitary Pads with Wings, 9 Typ...</td>\n",
       "      <td>1.0</td>\n",
       "      <td>yosoo</td>\n",
       "      <td>https://i5.walmartimages.com/asr/5645ee43-e26f...</td>\n",
       "      <td>5.0</td>\n",
       "    </tr>\n",
       "    <tr>\n",
       "      <th>4862</th>\n",
       "      <td>ZINSSER &amp; CO Jomax 1-Qt. Mold &amp; Mildew Stain R...</td>\n",
       "      <td>1.0</td>\n",
       "      <td>jomax</td>\n",
       "      <td>https://i5.walmartimages.com/asr/d04c8d61-023a...</td>\n",
       "      <td>5.0</td>\n",
       "    </tr>\n",
       "    <tr>\n",
       "      <th>4892</th>\n",
       "      <td>all Free Clear For Sensitive Skin, 110 Loads, ...</td>\n",
       "      <td>4.0</td>\n",
       "      <td></td>\n",
       "      <td>https://i5.walmartimages.com/asr/9ccd3c7b-f479...</td>\n",
       "      <td>5.0</td>\n",
       "    </tr>\n",
       "    <tr>\n",
       "      <th>33</th>\n",
       "      <td>($55 Value) Clarins Multi-Active Day Face Crea...</td>\n",
       "      <td>2.0</td>\n",
       "      <td>clarins</td>\n",
       "      <td>https://i5.walmartimages.com/asr/894b62ab-76d2...</td>\n",
       "      <td>5.0</td>\n",
       "    </tr>\n",
       "  </tbody>\n",
       "</table>\n",
       "</div>"
      ],
      "text/plain": [
       "                                                   Name  reviewCount  \\\n",
       "1     ($100 Value) Peter Thomas Roth Thermal Therapy...          1.0   \n",
       "4959      got2b Kinkier Curling Mousse 8 oz (Pack of 2)          1.0   \n",
       "6     ($14 Value) Burts Bees Beeswax Bounty Classic ...         10.0   \n",
       "1208  Clairol Professional Beautiful Collection Semi...          1.0   \n",
       "1216  Clairol Textures & Tones 4RC Cherrywood, 1 ea ...          1.0   \n",
       "1228  Clay-Park Labs Ammonium Lactate Lotion 12% 14 ...         13.0   \n",
       "4857  Yosoo Reusable Sanitary Pads with Wings, 9 Typ...          1.0   \n",
       "4862  ZINSSER & CO Jomax 1-Qt. Mold & Mildew Stain R...          1.0   \n",
       "4892  all Free Clear For Sensitive Skin, 110 Loads, ...          4.0   \n",
       "33    ($55 Value) Clarins Multi-Active Day Face Crea...          2.0   \n",
       "\n",
       "                    Brand                                           imageURL  \\\n",
       "1     peter, thomas, roth  https://i5.walmartimages.com/asr/ecd851ef-6ca7...   \n",
       "4959                göt2b  https://i5.walmartimages.com/asr/9e656b95-79f6...   \n",
       "6              burt, bees  https://i5.walmartimages.com/asr/bfbb58dc-8199...   \n",
       "1208              clairol  https://i5.walmartimages.com/asr/31562542-b683...   \n",
       "1216              clairol  https://i5.walmartimages.com/asr/78f33717-0104...   \n",
       "1228     clay, park, labs  https://i5.walmartimages.com/asr/b3d5462d-d067...   \n",
       "4857                yosoo  https://i5.walmartimages.com/asr/5645ee43-e26f...   \n",
       "4862                jomax  https://i5.walmartimages.com/asr/d04c8d61-023a...   \n",
       "4892                       https://i5.walmartimages.com/asr/9ccd3c7b-f479...   \n",
       "33                clarins  https://i5.walmartimages.com/asr/894b62ab-76d2...   \n",
       "\n",
       "      Rating  \n",
       "1        5.0  \n",
       "4959     5.0  \n",
       "6        5.0  \n",
       "1208     5.0  \n",
       "1216     5.0  \n",
       "1228     5.0  \n",
       "4857     5.0  \n",
       "4862     5.0  \n",
       "4892     5.0  \n",
       "33       5.0  "
      ]
     },
     "execution_count": 29,
     "metadata": {},
     "output_type": "execute_result"
    }
   ],
   "source": [
    "print(\"Rating Based Recommedation System: (Trending Products)\")\n",
    "ratingBasedRecommendation"
   ]
  },
  {
   "cell_type": "code",
   "execution_count": null,
   "id": "49bcffe4-14e2-485c-b247-fedef7198d59",
   "metadata": {},
   "outputs": [],
   "source": []
  }
 ],
 "metadata": {
  "kernelspec": {
   "display_name": "ecom",
   "language": "python",
   "name": "ecom"
  },
  "language_info": {
   "codemirror_mode": {
    "name": "ipython",
    "version": 3
   },
   "file_extension": ".py",
   "mimetype": "text/x-python",
   "name": "python",
   "nbconvert_exporter": "python",
   "pygments_lexer": "ipython3",
   "version": "3.12.6"
  }
 },
 "nbformat": 4,
 "nbformat_minor": 5
}
